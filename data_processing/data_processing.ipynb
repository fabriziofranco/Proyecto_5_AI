{
 "cells": [
  {
   "cell_type": "code",
   "execution_count": 2,
   "metadata": {},
   "outputs": [],
   "source": [
    "import os"
   ]
  },
  {
   "cell_type": "code",
   "execution_count": 44,
   "metadata": {},
   "outputs": [],
   "source": [
    "#folders paths\n",
    "DATA_PATH = '../data/dogs/color'\n",
    "DST_DATA_PATH = '../data/dogs/color2'"
   ]
  },
  {
   "cell_type": "code",
   "execution_count": 15,
   "metadata": {},
   "outputs": [],
   "source": [
    "#rename with zeros\n",
    "for subdir, dirs, files in os.walk(DATA_PATH):\n",
    "    for file in files:\n",
    "        old_file = os.path.join(subdir, file)\n",
    "        new_file = os.path.join(subdir, '0000000' + file)\n",
    "        os.rename(old_file, new_file)"
   ]
  },
  {
   "cell_type": "code",
   "execution_count": 51,
   "metadata": {},
   "outputs": [],
   "source": [
    "for subdir, dirs, files in os.walk(DATA_PATH):\n",
    "    prefix = (subdir.split('/')[-1].replace(\" \",\"_\")).upper()\n",
    "    for index, file in enumerate(files):\n",
    "        os.rename(os.path.join(subdir, file),  os.path.join(DST_DATA_PATH, f'{prefix}_{str(index)}.jpg'))"
   ]
  }
 ],
 "metadata": {
  "kernelspec": {
   "display_name": "Python 3.9.12 64-bit",
   "language": "python",
   "name": "python3"
  },
  "language_info": {
   "codemirror_mode": {
    "name": "ipython",
    "version": 3
   },
   "file_extension": ".py",
   "mimetype": "text/x-python",
   "name": "python",
   "nbconvert_exporter": "python",
   "pygments_lexer": "ipython3",
   "version": "3.9.12"
  },
  "orig_nbformat": 4,
  "vscode": {
   "interpreter": {
    "hash": "b0fa6594d8f4cbf19f97940f81e996739fb7646882a419484c72d19e05852a7e"
   }
  }
 },
 "nbformat": 4,
 "nbformat_minor": 2
}
