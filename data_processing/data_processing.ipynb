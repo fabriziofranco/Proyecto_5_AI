{
 "cells": [
  {
   "cell_type": "code",
   "execution_count": 1,
   "metadata": {},
   "outputs": [],
   "source": [
    "# Libraries\n",
    "import numpy as np\n",
    "import matplotlib.pyplot as plt\n",
    "from PIL import Image\n",
    "import cv2\n",
    "import os, sys"
   ]
  },
  {
   "cell_type": "code",
   "execution_count": 2,
   "metadata": {},
   "outputs": [],
   "source": [
    "#folders paths\n",
    "DATA_PATH = '../data/images/'\n",
    "DATA_DST = '../data/mariposas_256/'"
   ]
  },
  {
   "cell_type": "code",
   "execution_count": 3,
   "metadata": {},
   "outputs": [],
   "source": [
    "def resize_and_save_img(src, destination_path):\n",
    "    original_img = Image.open(src).convert('RGB').resize((256,256))\n",
    "    original_img.save(destination_path)"
   ]
  },
  {
   "cell_type": "code",
   "execution_count": 4,
   "metadata": {},
   "outputs": [],
   "source": [
    "for i, test_img in enumerate(sorted(os.listdir(DATA_PATH))):\n",
    "    resize_and_save_img(DATA_PATH + test_img, DATA_DST + test_img)"
   ]
  },
  {
   "cell_type": "code",
   "execution_count": 39,
   "metadata": {},
   "outputs": [],
   "source": [
    "from skimage import io, color, transform\n",
    "rgb = io.imread('../data/escala2.png')\n",
    "lab = color.rgb2lab(rgb).astype(\"float32\")"
   ]
  },
  {
   "cell_type": "code",
   "execution_count": 40,
   "metadata": {},
   "outputs": [
    {
     "name": "stdout",
     "output_type": "stream",
     "text": [
      "L: max: 100.0  min: 0.0, \n",
      "A: max: 84.03067016601562  min: -38.1148796081543, \n",
      "B: max: 51.65190887451172  min: -107.8572998046875, \n"
     ]
    }
   ],
   "source": [
    "print(f\"L: max: {lab[:,:,0].max()}  min: {lab[:,:,0].min()}, \")\n",
    "print(f\"A: max: {lab[:,:,1].max()}  min: {lab[:,:,1].min()}, \")\n",
    "print(f\"B: max: {lab[:,:,2].max()}  min: {lab[:,:,2].min()}, \")"
   ]
  }
 ],
 "metadata": {
  "kernelspec": {
   "display_name": "Python 3.7.6 ('base')",
   "language": "python",
   "name": "python3"
  },
  "language_info": {
   "codemirror_mode": {
    "name": "ipython",
    "version": 3
   },
   "file_extension": ".py",
   "mimetype": "text/x-python",
   "name": "python",
   "nbconvert_exporter": "python",
   "pygments_lexer": "ipython3",
   "version": "3.7.6"
  },
  "orig_nbformat": 4,
  "vscode": {
   "interpreter": {
    "hash": "60ba1e9c20a97bab95adc8fa7cd7536eabf7ae0f08621d987aa706dba1e5c7d3"
   }
  }
 },
 "nbformat": 4,
 "nbformat_minor": 2
}
