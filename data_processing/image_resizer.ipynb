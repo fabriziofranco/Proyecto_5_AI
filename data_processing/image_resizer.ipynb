{
 "cells": [
  {
   "cell_type": "code",
   "execution_count": 1,
   "metadata": {},
   "outputs": [],
   "source": [
    "import numpy as np\n",
    "from PIL import Image\n",
    "import cv2\n",
    "import os"
   ]
  },
  {
   "cell_type": "code",
   "execution_count": 5,
   "metadata": {},
   "outputs": [
    {
     "data": {
      "text/plain": [
       "<__main__.ImageResizer at 0x7fb6ed457750>"
      ]
     },
     "execution_count": 5,
     "metadata": {},
     "output_type": "execute_result"
    }
   ],
   "source": [
    "class ImageResizer:\n",
    "    def __init__(self, images_src_path, resized_images_destination_path):\n",
    "        self.images_src_path = images_src_path\n",
    "        self.resized_images_destination_path = resized_images_destination_path\n",
    "        self.resize_and_save_new_images()\n",
    "\n",
    "    def resize_and_save_new_images(self):\n",
    "        for image_path in os.listdir(self.images_src_path):\n",
    "            image = Image.open(self.images_src_path + image_path)\n",
    "            image.resize((150, 150)).save(self.resized_images_destination_path + image_path)\n",
    "\n",
    "# ImageResizer(images_src_path=\"../data/birds/color_original_size/\", resized_images_destination_path=\"../data/birds/color/\")\n",
    "ImageResizer(images_src_path=\"../data/dogs/color_original_size/\", resized_images_destination_path=\"../data/dogs/color/\")"
   ]
  }
 ],
 "metadata": {
  "kernelspec": {
   "display_name": "Python 3.7.6 ('base')",
   "language": "python",
   "name": "python3"
  },
  "language_info": {
   "codemirror_mode": {
    "name": "ipython",
    "version": 3
   },
   "file_extension": ".py",
   "mimetype": "text/x-python",
   "name": "python",
   "nbconvert_exporter": "python",
   "pygments_lexer": "ipython3",
   "version": "3.7.6"
  },
  "orig_nbformat": 4,
  "vscode": {
   "interpreter": {
    "hash": "60ba1e9c20a97bab95adc8fa7cd7536eabf7ae0f08621d987aa706dba1e5c7d3"
   }
  }
 },
 "nbformat": 4,
 "nbformat_minor": 2
}
