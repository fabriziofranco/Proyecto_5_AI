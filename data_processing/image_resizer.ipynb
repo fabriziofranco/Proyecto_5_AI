{
 "cells": [
  {
   "cell_type": "code",
   "execution_count": 1,
   "metadata": {},
   "outputs": [],
   "source": [
    "import numpy as np\n",
    "from PIL import Image\n",
    "import cv2\n",
    "import os"
   ]
  },
  {
   "cell_type": "code",
   "execution_count": 13,
   "metadata": {},
   "outputs": [
    {
     "data": {
      "text/plain": [
       "<__main__.ImageResizer at 0x7fb70ccb04d0>"
      ]
     },
     "execution_count": 13,
     "metadata": {},
     "output_type": "execute_result"
    }
   ],
   "source": [
    "class ImageResizer:\n",
    "    def __init__(self, images_src_path, resized_images_destination_path):\n",
    "        self.images_src_path = images_src_path\n",
    "        self.resized_images_destination_path = resized_images_destination_path\n",
    "        self.resize_and_save_new_images()\n",
    "\n",
    "    def resize_and_save_new_images(self):\n",
    "        for image_path in os.listdir(self.images_src_path):\n",
    "            image = Image.open(self.images_src_path + image_path)\n",
    "            image.convert('L').save(self.resized_images_destination_path + image_path)\n",
    "\n",
    "ImageResizer(images_src_path=\"../data/birds/color/\", resized_images_destination_path=\"../data/birds/gray/\")\n",
    "ImageResizer(images_src_path=\"../data/dogs/color/\", resized_images_destination_path=\"../data/dogs/gray/\")"
   ]
  },
  {
   "cell_type": "code",
   "execution_count": 12,
   "metadata": {},
   "outputs": [],
   "source": [
    "img = Image.open('../data/dogs/color/AFGHAN_0.jpg').convert('L')\n",
    "img.show()"
   ]
  }
 ],
 "metadata": {
  "kernelspec": {
   "display_name": "Python 3.7.6 ('base')",
   "language": "python",
   "name": "python3"
  },
  "language_info": {
   "codemirror_mode": {
    "name": "ipython",
    "version": 3
   },
   "file_extension": ".py",
   "mimetype": "text/x-python",
   "name": "python",
   "nbconvert_exporter": "python",
   "pygments_lexer": "ipython3",
   "version": "3.7.6"
  },
  "orig_nbformat": 4,
  "vscode": {
   "interpreter": {
    "hash": "60ba1e9c20a97bab95adc8fa7cd7536eabf7ae0f08621d987aa706dba1e5c7d3"
   }
  }
 },
 "nbformat": 4,
 "nbformat_minor": 2
}
