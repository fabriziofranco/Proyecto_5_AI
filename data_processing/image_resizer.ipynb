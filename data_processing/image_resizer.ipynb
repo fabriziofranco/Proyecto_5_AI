{
 "cells": [
  {
   "cell_type": "code",
   "execution_count": null,
   "metadata": {},
   "outputs": [],
   "source": [
    "import numpy as np\n",
    "from PIL import Image\n",
    "import cv2\n",
    "import os"
   ]
  },
  {
   "cell_type": "code",
   "execution_count": 1,
   "metadata": {},
   "outputs": [
    {
     "ename": "FileNotFoundError",
     "evalue": "[Errno 2] No such file or directory: 'data/birds/color_original_size/'",
     "output_type": "error",
     "traceback": [
      "\u001b[0;31m---------------------------------------------------------------------------\u001b[0m",
      "\u001b[0;31mFileNotFoundError\u001b[0m                         Traceback (most recent call last)",
      "\u001b[1;32m/home/carlos/Documents/utec/2022-1/ia/proyectos/Proyecto_5_AI/data_processing/image_resizer.ipynb Cell 2'\u001b[0m in \u001b[0;36m<cell line: 42>\u001b[0;34m()\u001b[0m\n\u001b[1;32m     <a href='vscode-notebook-cell:/home/carlos/Documents/utec/2022-1/ia/proyectos/Proyecto_5_AI/data_processing/image_resizer.ipynb#ch0000001?line=37'>38</a>\u001b[0m                 folder \u001b[39m=\u001b[39m \u001b[39m\"\u001b[39m\u001b[39m10\u001b[39m\u001b[39m\"\u001b[39m\n\u001b[1;32m     <a href='vscode-notebook-cell:/home/carlos/Documents/utec/2022-1/ia/proyectos/Proyecto_5_AI/data_processing/image_resizer.ipynb#ch0000001?line=39'>40</a>\u001b[0m             Image\u001b[39m.\u001b[39mfromarray(resized_img)\u001b[39m.\u001b[39msave(\u001b[39mf\u001b[39m\u001b[39m\"\u001b[39m\u001b[39m{\u001b[39;00m\u001b[39mself\u001b[39m\u001b[39m.\u001b[39mresized_images_destination_path\u001b[39m}\u001b[39;00m\u001b[39m{\u001b[39;00mfolder\u001b[39m}\u001b[39;00m\u001b[39m/\u001b[39m\u001b[39m{\u001b[39;00mimage_path\u001b[39m}\u001b[39;00m\u001b[39m\"\u001b[39m)\n\u001b[0;32m---> <a href='vscode-notebook-cell:/home/carlos/Documents/utec/2022-1/ia/proyectos/Proyecto_5_AI/data_processing/image_resizer.ipynb#ch0000001?line=41'>42</a>\u001b[0m generator \u001b[39m=\u001b[39m ImageResizer(images_src_path\u001b[39m=\u001b[39;49m\u001b[39m\"\u001b[39;49m\u001b[39mdata/birds/color_original_size/\u001b[39;49m\u001b[39m\"\u001b[39;49m, resized_images_destination_path\u001b[39m=\u001b[39;49m\u001b[39m\"\u001b[39;49m\u001b[39mdata/birds/color/\u001b[39;49m\u001b[39m\"\u001b[39;49m)\n\u001b[1;32m     <a href='vscode-notebook-cell:/home/carlos/Documents/utec/2022-1/ia/proyectos/Proyecto_5_AI/data_processing/image_resizer.ipynb#ch0000001?line=42'>43</a>\u001b[0m generator\u001b[39m.\u001b[39mresize_and_save_new_images()\n",
      "\u001b[1;32m/home/carlos/Documents/utec/2022-1/ia/proyectos/Proyecto_5_AI/data_processing/image_resizer.ipynb Cell 2'\u001b[0m in \u001b[0;36mImageResizer.__init__\u001b[0;34m(self, images_src_path, resized_images_destination_path)\u001b[0m\n\u001b[1;32m      <a href='vscode-notebook-cell:/home/carlos/Documents/utec/2022-1/ia/proyectos/Proyecto_5_AI/data_processing/image_resizer.ipynb#ch0000001?line=2'>3</a>\u001b[0m \u001b[39mself\u001b[39m\u001b[39m.\u001b[39mimages_src_path \u001b[39m=\u001b[39m images_src_path\n\u001b[1;32m      <a href='vscode-notebook-cell:/home/carlos/Documents/utec/2022-1/ia/proyectos/Proyecto_5_AI/data_processing/image_resizer.ipynb#ch0000001?line=3'>4</a>\u001b[0m \u001b[39mself\u001b[39m\u001b[39m.\u001b[39mresized_images_destination_path \u001b[39m=\u001b[39m resized_images_destination_path\n\u001b[0;32m----> <a href='vscode-notebook-cell:/home/carlos/Documents/utec/2022-1/ia/proyectos/Proyecto_5_AI/data_processing/image_resizer.ipynb#ch0000001?line=4'>5</a>\u001b[0m \u001b[39mself\u001b[39m\u001b[39m.\u001b[39mlargest_height, \u001b[39mself\u001b[39m\u001b[39m.\u001b[39mlargest_width \u001b[39m=\u001b[39m \u001b[39mself\u001b[39;49m\u001b[39m.\u001b[39;49mfind_largest_width_and_height()\n",
      "\u001b[1;32m/home/carlos/Documents/utec/2022-1/ia/proyectos/Proyecto_5_AI/data_processing/image_resizer.ipynb Cell 2'\u001b[0m in \u001b[0;36mImageResizer.find_largest_width_and_height\u001b[0;34m(self)\u001b[0m\n\u001b[1;32m      <a href='vscode-notebook-cell:/home/carlos/Documents/utec/2022-1/ia/proyectos/Proyecto_5_AI/data_processing/image_resizer.ipynb#ch0000001?line=6'>7</a>\u001b[0m \u001b[39mdef\u001b[39;00m \u001b[39mfind_largest_width_and_height\u001b[39m(\u001b[39mself\u001b[39m):\n\u001b[1;32m      <a href='vscode-notebook-cell:/home/carlos/Documents/utec/2022-1/ia/proyectos/Proyecto_5_AI/data_processing/image_resizer.ipynb#ch0000001?line=7'>8</a>\u001b[0m     largest_height \u001b[39m=\u001b[39m largest_width \u001b[39m=\u001b[39m \u001b[39m0\u001b[39m\n\u001b[0;32m----> <a href='vscode-notebook-cell:/home/carlos/Documents/utec/2022-1/ia/proyectos/Proyecto_5_AI/data_processing/image_resizer.ipynb#ch0000001?line=8'>9</a>\u001b[0m     \u001b[39mfor\u001b[39;00m image_path \u001b[39min\u001b[39;00m os\u001b[39m.\u001b[39;49mlistdir(\u001b[39mself\u001b[39;49m\u001b[39m.\u001b[39;49mimages_src_path):\n\u001b[1;32m     <a href='vscode-notebook-cell:/home/carlos/Documents/utec/2022-1/ia/proyectos/Proyecto_5_AI/data_processing/image_resizer.ipynb#ch0000001?line=9'>10</a>\u001b[0m         img \u001b[39m=\u001b[39m cv2\u001b[39m.\u001b[39mimread(\u001b[39mself\u001b[39m\u001b[39m.\u001b[39mimages_src_path \u001b[39m+\u001b[39m image_path)\n\u001b[1;32m     <a href='vscode-notebook-cell:/home/carlos/Documents/utec/2022-1/ia/proyectos/Proyecto_5_AI/data_processing/image_resizer.ipynb#ch0000001?line=10'>11</a>\u001b[0m         height, width, _ \u001b[39m=\u001b[39m img\u001b[39m.\u001b[39mshape\n",
      "\u001b[0;31mFileNotFoundError\u001b[0m: [Errno 2] No such file or directory: 'data/birds/color_original_size/'"
     ]
    }
   ],
   "source": [
    "class ImageResizer:\n",
    "    def __init__(self, images_src_path, resized_images_destination_path):\n",
    "        self.images_src_path = images_src_path\n",
    "        self.resized_images_destination_path = resized_images_destination_path\n",
    "        self.largest_height, self.largest_width = self.find_largest_width_and_height()\n",
    "        self.resize_and_save_new_images()\n",
    "\n",
    "    def find_largest_width_and_height(self):\n",
    "        largest_height = largest_width = 0\n",
    "        for image_path in os.listdir(self.images_src_path):\n",
    "            img = cv2.imread(self.images_src_path + image_path)\n",
    "            height, width, _ = img.shape\n",
    "            largest_height = max(largest_height, height)\n",
    "            largest_width = max(largest_width, width)\n",
    "        return largest_height, largest_width\n",
    "\n",
    "    def resize_and_save_new_images(self):\n",
    "        for image_path in os.listdir(self.images_src_path):\n",
    "            image = Image.open(self.images_src_path + image_path)\n",
    "            image.resize((150, 150)).save(self.resized_images_destination_path + image_path)\n",
    "    \n",
    "    def fill_and_save_new_images(self):\n",
    "        for image_path in os.listdir(self.images_src_path):\n",
    "            original_image = cv2.imread(self.images_src_path + image_path)\n",
    "            original_image_height, original_image_width, channels = original_image.shape\n",
    "            new_image_height = self.largest_height\n",
    "            new_image_width = self.largest_width\n",
    "            fill_color = (255, 255, 255)\n",
    "\n",
    "            resized_img = np.full((new_image_height, new_image_width, channels), fill_color, dtype=np.uint8)\n",
    "\n",
    "            y_center = (new_image_height - original_image_height) // 2\n",
    "            x_center = (new_image_width - original_image_width) // 2\n",
    "\n",
    "            resized_img[y_center : y_center + original_image_height, x_center : x_center + original_image_width] = original_image\n",
    "\n",
    "            folder = image_path[2]\n",
    "            if folder == \"0\":\n",
    "                folder = \"10\"\n",
    "            \n",
    "            Image.fromarray(resized_img).save(f\"{self.resized_images_destination_path}{folder}/{image_path}\")\n",
    "\n",
    "ImageResizer(images_src_path=\"../data/birds/color_original_size/\", resized_images_destination_path=\"../data/birds/color/\")\n",
    "ImageResizer(images_src_path=\"../data/dogs/color_original_size/\", resized_images_destination_path=\"../data/dogs/color/\")"
   ]
  }
 ],
 "metadata": {
  "kernelspec": {
   "display_name": "Python 3.9.12 ('base')",
   "language": "python",
   "name": "python3"
  },
  "language_info": {
   "codemirror_mode": {
    "name": "ipython",
    "version": 3
   },
   "file_extension": ".py",
   "mimetype": "text/x-python",
   "name": "python",
   "nbconvert_exporter": "python",
   "pygments_lexer": "ipython3",
   "version": "3.9.12"
  },
  "orig_nbformat": 4,
  "vscode": {
   "interpreter": {
    "hash": "8e3278dc2d4319bb449f7432eacae4b9d9bdaf217dc74f3a140b6c750a8e3cde"
   }
  }
 },
 "nbformat": 4,
 "nbformat_minor": 2
}
