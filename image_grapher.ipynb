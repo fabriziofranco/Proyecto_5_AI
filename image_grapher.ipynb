{
 "cells": [
  {
   "cell_type": "code",
   "execution_count": 1,
   "metadata": {},
   "outputs": [],
   "source": [
    "import numpy as np\n",
    "import matplotlib.pyplot as plt"
   ]
  },
  {
   "cell_type": "code",
   "execution_count": 13,
   "metadata": {},
   "outputs": [
    {
     "data": {
      "image/png": "[encoded data removed]",
      "text/plain": [
       "<Figure size 504x252 with 3 Axes>"
      ]
     },
     "metadata": {
      "needs_background": "light"
     },
     "output_type": "display_data"
    }
   ],
   "source": [
    "class ImagePlotter:\n",
    "    def __init__(self):\n",
    "        pass\n",
    "\n",
    "    def plot_original_grayscale_expected(self, original_path, grayscale_path, expected_path):\n",
    "        plt.rcParams[\"figure.figsize\"] = [7, 3.5]\n",
    "        plt.rcParams[\"figure.autolayout\"] = True\n",
    "        data = np.random.rand(5, 5)\n",
    "        plt.subplot(1, 3, 1)\n",
    "        plt.imshow(data, cmap=\"Blues_r\")\n",
    "        plt.subplot(1, 3, 2)\n",
    "        plt.imshow(data, cmap=\"Accent_r\")\n",
    "        plt.subplot(1, 3, 3)\n",
    "        plt.imshow(data, cmap=\"terrain_r\")\n",
    "        plt.show()\n",
    "\n",
    "plotter = ImagePlotter()\n",
    "plotter.plot_original_grayscale_expected(\"\", \"\", \"\")"
   ]
  }
 ],
 "metadata": {
  "kernelspec": {
   "display_name": "Python 3.8.10 64-bit",
   "language": "python",
   "name": "python3"
  },
  "language_info": {
   "codemirror_mode": {
    "name": "ipython",
    "version": 3
   },
   "file_extension": ".py",
   "mimetype": "text/x-python",
   "name": "python",
   "nbconvert_exporter": "python",
   "pygments_lexer": "ipython3",
   "version": "3.8.10"
  },
  "orig_nbformat": 4,
  "vscode": {
   "interpreter": {
    "hash": "916dbcbb3f70747c44a77c7bcd40155683ae19c65e1c03b4aa3499c5328201f1"
   }
  }
 },
 "nbformat": 4,
 "nbformat_minor": 2
}
