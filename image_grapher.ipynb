{
 "cells": [
  {
   "cell_type": "code",
   "execution_count": 1,
   "metadata": {},
   "outputs": [],
   "source": [
    "import numpy as np\n",
    "import matplotlib.pyplot as plt"
   ]
  },
  {
   "cell_type": "code",
   "execution_count": 11,
   "metadata": {},
   "outputs": [
    {
     "ename": "TypeError",
     "evalue": "plot_original_grayscale_expected() missing 3 required positional arguments: 'original_path', 'grayscale_path', and 'expected_path'",
     "output_type": "error",
     "traceback": [
      "\u001b[0;31m---------------------------------------------------------------------------\u001b[0m",
      "\u001b[0;31mTypeError\u001b[0m                                 Traceback (most recent call last)",
      "\u001b[1;32m/home/carlos/Documents/utec/2022-1/ia/proyectos/Proyecto_5_AI/image_grapher.ipynb Cell 2'\u001b[0m in \u001b[0;36m<cell line: 18>\u001b[0;34m()\u001b[0m\n\u001b[1;32m     <a href='vscode-notebook-cell:/home/carlos/Documents/utec/2022-1/ia/proyectos/Proyecto_5_AI/image_grapher.ipynb#ch0000001?line=14'>15</a>\u001b[0m         plt\u001b[39m.\u001b[39mshow()\n\u001b[1;32m     <a href='vscode-notebook-cell:/home/carlos/Documents/utec/2022-1/ia/proyectos/Proyecto_5_AI/image_grapher.ipynb#ch0000001?line=16'>17</a>\u001b[0m plotter \u001b[39m=\u001b[39m ImagePlotter()\n\u001b[0;32m---> <a href='vscode-notebook-cell:/home/carlos/Documents/utec/2022-1/ia/proyectos/Proyecto_5_AI/image_grapher.ipynb#ch0000001?line=17'>18</a>\u001b[0m plotter\u001b[39m.\u001b[39;49mplot_original_grayscale_expected()\n",
      "\u001b[0;31mTypeError\u001b[0m: plot_original_grayscale_expected() missing 3 required positional arguments: 'original_path', 'grayscale_path', and 'expected_path'"
     ]
    }
   ],
   "source": [
    "class ImagePlotter:\n",
    "    def __init__(self):\n",
    "        pass\n",
    "\n",
    "    def plot_original_grayscale_expected(self, original_path, grayscale_path, expected_path):\n",
    "        plt.rcParams[\"figure.figsize\"] = [14.00, 7.00]\n",
    "        plt.rcParams[\"figure.autolayout\"] = True\n",
    "        data = np.random.rand(5, 5)\n",
    "        plt.subplot(1, 3, 1)\n",
    "        plt.imshow(data, cmap=\"Blues_r\")\n",
    "        plt.subplot(1, 3, 2)\n",
    "        plt.imshow(data, cmap=\"Accent_r\")\n",
    "        plt.subplot(1, 3, 3)\n",
    "        plt.imshow(data, cmap=\"terrain_r\")\n",
    "        plt.show()\n",
    "\n",
    "plotter = ImagePlotter()\n",
    "plotter.plot_original_grayscale_expected(\"\", \"\", \"\")"
   ]
  }
 ],
 "metadata": {
  "kernelspec": {
   "display_name": "Python 3.8.10 64-bit",
   "language": "python",
   "name": "python3"
  },
  "language_info": {
   "codemirror_mode": {
    "name": "ipython",
    "version": 3
   },
   "file_extension": ".py",
   "mimetype": "text/x-python",
   "name": "python",
   "nbconvert_exporter": "python",
   "pygments_lexer": "ipython3",
   "version": "3.8.10"
  },
  "orig_nbformat": 4,
  "vscode": {
   "interpreter": {
    "hash": "916dbcbb3f70747c44a77c7bcd40155683ae19c65e1c03b4aa3499c5328201f1"
   }
  }
 },
 "nbformat": 4,
 "nbformat_minor": 2
}
